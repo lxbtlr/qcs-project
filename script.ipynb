{
 "cells": [
  {
   "cell_type": "code",
   "execution_count": 57,
   "id": "7eb596df-2129-4aa7-95a3-10cbc5fd0bec",
   "metadata": {},
   "outputs": [],
   "source": [
    "import numpy \n",
    "import os\n",
    "import pathlib\n",
    "import shutil\n",
    "import qiskit\n",
    "import matplotlib.pyplot as plt\n",
    "import pandas\n",
    "from datetime import datetime\n",
    "from qiskit_ibm_runtime import QiskitRuntimeService"
   ]
  },
  {
   "cell_type": "code",
   "execution_count": 20,
   "id": "c297d099-8922-4c14-aa23-80195343bdc1",
   "metadata": {},
   "outputs": [],
   "source": [
    "service = QiskitRuntimeService(instance=\"ibm-q/open/main\")\n",
    "\n",
    "TOKEN = \"611c90c49ec2bdca1945f0fb99f78cbe6e841084394a4fecba30ff27d59fb3909a5b6eef815892d40e5bc76eaf903ae119b11b378547b0ddf875f0a4ac78710a\"\n",
    "\n",
    "DATE = str(datetime.today())[:10].replace(\":\",\"-\")\n",
    "\n",
    "BACKENDS = [\"ibm_kyiv\",\"ibm_sherbrooke\",\"ibm_brisbane\"]"
   ]
  },
  {
   "cell_type": "code",
   "execution_count": 33,
   "id": "154b9794-7312-40e5-b59d-8078a7816c89",
   "metadata": {
    "editable": true,
    "slideshow": {
     "slide_type": ""
    },
    "tags": []
   },
   "outputs": [],
   "source": [
    "def get_gate_error():\n",
    "\n",
    "    output = []\n",
    "\n",
    "    for be in BACKENDS:\n",
    "        backend = service.backend(be)\n",
    "        basis_set = backend.properties().gates\n",
    "        cm = backend.coupling_map\n",
    "        nqubits = backend.num_qubits\n",
    "        qproperties = backend.qubit_properties(list(range(nqubits)))\n",
    "        backend_props = backend.properties()\n",
    "        for basis_gate in backend.configuration().basis_gates:\n",
    "            for gate_props in backend_props.gates:\n",
    "                data = gate_props.to_dict()\n",
    "               \n",
    "                if data['gate'] == basis_gate:\n",
    "                    #output[basis_gate] = {data['qubits']:param['value'] for param in data['parameters']} # if param['name'] == 'gate_error'}\n",
    "                    for param in data['parameters']:\n",
    "                        if param['name'] == 'gate_error':\n",
    "                            # name: MM-DD-YR.csv\n",
    "                            # header: backend, basis_gate, q1, q2, error, \n",
    "                            output.append({\n",
    "                                \"backend\":backend.name,\n",
    "                                \"basis_gate\": basis_gate,\n",
    "                                \"q1\": data['qubits'][0], \n",
    "                                \"q2\": data['qubits'][1] if len(data['qubits']) >1 else None, \n",
    "                                \"error\": param['value']})\n",
    "                            \n",
    "                            # print(backend().name,basis_gate,\"gate_error on\", data['qubits'], param['value']) \n",
    "\n",
    "    \n",
    "    df = pandas.DataFrame(output)\n",
    "    print(df)\n",
    "\n",
    "    return df"
   ]
  },
  {
   "cell_type": "code",
   "execution_count": 34,
   "id": "9e20573e-0e0b-4da6-a286-bb15e366ed14",
   "metadata": {},
   "outputs": [],
   "source": [
    "def save_data(data:pandas.DataFrame, cwd):\n",
    "    fname = DATE+ \".csv\"\n",
    "\n",
    "    data.to_csv(fname)\n",
    "    # where we are\n",
    "\n",
    "\n",
    "    # file to move\n",
    "    src = cwd +\"/\" +fname\n",
    "\n",
    "    pathlib.Path(cwd+\"/error_data\").mkdir(parents=True, exist_ok=True)\n",
    "    dst = cwd +\"/error_data/\" + fname\n",
    "    \n",
    "    shutil.move(src, dst)\n",
    "    pass"
   ]
  },
  {
   "cell_type": "code",
   "execution_count": 35,
   "id": "2b983dbd-3a8c-4cb3-b8ee-c6b2515deefc",
   "metadata": {
    "scrolled": true
   },
   "outputs": [
    {
     "name": "stdout",
     "output_type": "stream",
     "text": [
      "           backend basis_gate   q1     q2     error\n",
      "0         ibm_kyiv        ecr   96   95.0  0.007146\n",
      "1         ibm_kyiv        ecr   67   68.0  0.012149\n",
      "2         ibm_kyiv        ecr  108  112.0  0.008776\n",
      "3         ibm_kyiv        ecr   17   12.0  0.033686\n",
      "4         ibm_kyiv        ecr    8    9.0  1.000000\n",
      "...            ...        ...  ...    ...       ...\n",
      "1951  ibm_brisbane          x  122    NaN  0.000286\n",
      "1952  ibm_brisbane          x  123    NaN  0.000446\n",
      "1953  ibm_brisbane          x  124    NaN  0.000175\n",
      "1954  ibm_brisbane          x  125    NaN  0.000314\n",
      "1955  ibm_brisbane          x  126    NaN  0.000149\n",
      "\n",
      "[1956 rows x 5 columns]\n",
      "             backend basis_gate   q1     q2     error\n",
      "652   ibm_sherbrooke        ecr   41   40.0  0.021955\n",
      "653   ibm_sherbrooke        ecr   99  100.0  0.008324\n",
      "654   ibm_sherbrooke        ecr   78   77.0  0.011001\n",
      "655   ibm_sherbrooke        ecr   17   12.0  0.005017\n",
      "656   ibm_sherbrooke        ecr    8    9.0  0.014544\n",
      "...              ...        ...  ...    ...       ...\n",
      "1299  ibm_sherbrooke          x  122    NaN  0.000396\n",
      "1300  ibm_sherbrooke          x  123    NaN  0.000118\n",
      "1301  ibm_sherbrooke          x  124    NaN  0.000195\n",
      "1302  ibm_sherbrooke          x  125    NaN  0.000180\n",
      "1303  ibm_sherbrooke          x  126    NaN  0.000116\n",
      "\n",
      "[652 rows x 5 columns]\n",
      "data saved\n"
     ]
    }
   ],
   "source": [
    "def grab_data():\n",
    "    cwd = os.getcwd()\n",
    "    data = get_gate_error()\n",
    "    print(data[data[\"backend\"]==\"ibm_sherbrooke\"])\n",
    "    save_data(data, cwd)\n",
    "    print(\"data saved\")\n",
    "grab_data()"
   ]
  },
  {
   "cell_type": "markdown",
   "id": "90d2f590-59ea-449e-8d57-e1ff0f1d11eb",
   "metadata": {},
   "source": [
    "# Data Analsys\n",
    "Here we want to search for \"problem children\" qubits these are qubits that are consistently (tending to be) above the avg gate error of their peers. We can compute this two different ways, but they both come back to the same idea: averageing above the mean significantly. Where these methods differ is what mean we use. \n",
    "1. In our first option we will use the average mean that VF2layoutPass uses for 1 qubit and 2 qubit gate errors as our baseline + some arbitrary threshold (+5%?) to identify the worst qubits.\n",
    "2. In the latter we can create our own running average of the 1 qubit & 2 qubit gate errors (even going so far as deriving these averages in each basis gate dimension rather than combining them first), before ultimately adding some threshold (+5%) to identify the worst qubits.\n",
    "\n",
    "In a single day this gives some information, but by aggregating we can hope to see a trend / outlier qubits that we can identify as troublesome. While the database acts as a scoreboard, what we really want is a rolling 'employee of the month' rolling window, or decaying weights system to account for active calibration efforts by site maintainers.  \n"
   ]
  },
  {
   "cell_type": "code",
   "execution_count": 36,
   "id": "32e8be70-9c72-42eb-aaff-dd02aa899a6a",
   "metadata": {},
   "outputs": [],
   "source": [
    "def load_data():\n",
    "    \n",
    "    cwd = os.getcwd()\n",
    "    print(cwd)\n",
    "    return os.listdir(cwd + \"/error_data/\")"
   ]
  },
  {
   "cell_type": "code",
   "execution_count": 53,
   "id": "343e91d1-2075-4db4-9fe6-aa4d3ff7be54",
   "metadata": {},
   "outputs": [],
   "source": [
    "def get_filedata(fnames:list[str]):\n",
    "    all_data = {}\n",
    "    print(\"getting data from: \", end=\"\")\n",
    "    for fname in fnames:\n",
    "        all_data[fname] = (pandas.read_csv(\"error_data/\" + fname))\n",
    "        print(fname, end=\", \")\n",
    "    print()\n",
    "    return all_data\n",
    "\n",
    "def zerror(form:pandas.DataFrame):\n",
    "    base = pandas.DataFrame.copy(form)\n",
    "    base[\"error\"] = base[\"error\"].mul(0)\n",
    "    return base\n",
    "\n",
    "def gate_avg(gate:str,avg_error:pandas.DataFrame):\n",
    "    selection = avg_error[avg_error[\"basis_gate\"]==gate]\n",
    "    gate_average_error = selection[\"error\"].sum() / len(selection)\n",
    "    return gate_average_error\n",
    "\n",
    "def two_gate_avg(avg_error:pandas.DataFrame):\n",
    "    selection = avg_error[~avg_error[\"q2\"].isnull()]\n",
    "    dos = selection[\"error\"].sum() / len(selection)\n",
    "    return dos\n",
    "\n",
    "def single_gate_avg(avg_error:pandas.DataFrame):\n",
    "    selection = avg_error[avg_error[\"q2\"].isnull()]\n",
    "    uno = selection[\"error\"].sum() / len(selection)\n",
    "    return uno\n",
    "\n",
    "def rolling_avg(data, window_size:int):\n",
    "    \"\"\" Given a set of data and a window size, select the newest X entries to be included in the windowed average\"\"\"\n",
    "    pass\n",
    "\n",
    "def _default_weight():\n",
    "    return 1\n",
    "\n",
    "def weighted_avg(data,weighting_func=_default_weight):\n",
    "    \"\"\"Given a set of data and a weighting function, apply weights to the data and find the average\"\"\"\n",
    "    pass\n",
    "\n",
    "def machine_data(name:str,data:dict[pandas.DataFrame]):\n",
    "    filtered_df = data.copy()\n",
    "    for key, day in data.items():\n",
    "        filtered_df[key] = day[day[\"backend\"]==name]\n",
    "    return filtered_df\n",
    "    \n",
    "def calc_avgs(data:dict[pandas.DataFrame]):\n",
    "\n",
    "    # broken down by basis set gates\n",
    "    gate_averages = {}\n",
    "    blank = zerror(data[list(data.keys())[0]])\n",
    "    \n",
    "    gate_error_average = 0\n",
    "    for fname,day in data.items():\n",
    "        #TODO: fix this naive solution for one that checks the keys\n",
    "        blank[\"error\"] += day[\"error\"]\n",
    "        \n",
    "    blank[\"error\"] = blank[\"error\"].div(len(data))\n",
    "\n",
    "    for gate in blank[\"basis_gate\"].unique():\n",
    "        gate_averages[gate] = gate_avg(gate, blank)\n",
    "    #print(gate_averages)\n",
    "    #print(sum(list(gate_averages.values())), len(gate_averages))\n",
    "    #gate_error_average = sum(list(gate_averages.values()))/ len(gate_averages)\n",
    "    gate_averages[\"Dos\"] = two_gate_avg(blank)\n",
    "    gate_averages[\"Uno\"] = single_gate_avg(blank)\n",
    "    \n",
    "    print(\"gate_avg:\\n\",gate_averages,\"\\n based on the Physical Gate Avgs:\\n\",blank)\n",
    "    return gate_averages, blank \n"
   ]
  },
  {
   "cell_type": "code",
   "execution_count": 54,
   "id": "a679d084-d038-4700-8f04-53faa9f19f0c",
   "metadata": {
    "editable": true,
    "scrolled": true,
    "slideshow": {
     "slide_type": ""
    },
    "tags": []
   },
   "outputs": [
    {
     "name": "stdout",
     "output_type": "stream",
     "text": [
      "/pool/alexb/qcs\n",
      "getting data from: 2025-03-17.csv, 2025-03-19.csv, 2025-03-18.csv, \n",
      "global\n",
      "gate_avg:\n",
      " {'ecr': 0.03808550889547033, 'id': 0.0007687255450318028, 'rz': 0.0, 'sx': 0.0007687255450318028, 'x': 0.0007687255450318028, 'Dos': 0.03808550889547033, 'Uno': 0.0005765441587738522} \n",
      " based on the Physical Gate Avgs:\n",
      "       Unnamed: 0       backend basis_gate   q1     q2     error\n",
      "0              0      ibm_kyiv        ecr   96   95.0  0.007000\n",
      "1              1      ibm_kyiv        ecr   67   68.0  0.012488\n",
      "2              2      ibm_kyiv        ecr  108  112.0  0.011483\n",
      "3              3      ibm_kyiv        ecr   17   12.0  0.036222\n",
      "4              4      ibm_kyiv        ecr    8    9.0  1.000000\n",
      "...          ...           ...        ...  ...    ...       ...\n",
      "1951        1951  ibm_brisbane          x  122    NaN  0.000286\n",
      "1952        1952  ibm_brisbane          x  123    NaN  0.000446\n",
      "1953        1953  ibm_brisbane          x  124    NaN  0.000175\n",
      "1954        1954  ibm_brisbane          x  125    NaN  0.000314\n",
      "1955        1955  ibm_brisbane          x  126    NaN  0.000149\n",
      "\n",
      "[1956 rows x 6 columns]\n",
      "\n",
      " ibm_kyiv\n",
      "gate_avg:\n",
      " {'ecr': 0.0625815759412081, 'id': 0.0012796290580725275, 'rz': 0.0, 'sx': 0.0012796290580725275, 'x': 0.0012796290580725275, 'Dos': 0.0625815759412081, 'Uno': 0.0009597217935543954} \n",
      " based on the Physical Gate Avgs:\n",
      "      Unnamed: 0   backend basis_gate   q1     q2     error\n",
      "0             0  ibm_kyiv        ecr   96   95.0  0.007000\n",
      "1             1  ibm_kyiv        ecr   67   68.0  0.012488\n",
      "2             2  ibm_kyiv        ecr  108  112.0  0.011483\n",
      "3             3  ibm_kyiv        ecr   17   12.0  0.036222\n",
      "4             4  ibm_kyiv        ecr    8    9.0  1.000000\n",
      "..          ...       ...        ...  ...    ...       ...\n",
      "647         647  ibm_kyiv          x  122    NaN  0.000241\n",
      "648         648  ibm_kyiv          x  123    NaN  0.000142\n",
      "649         649  ibm_kyiv          x  124    NaN  0.000547\n",
      "650         650  ibm_kyiv          x  125    NaN  0.000735\n",
      "651         651  ibm_kyiv          x  126    NaN  0.000291\n",
      "\n",
      "[652 rows x 6 columns]\n",
      "\n",
      " ibm_sherbrooke\n",
      "gate_avg:\n",
      " {'ecr': 0.03252196853624812, 'id': 0.0005995044273962919, 'rz': 0.0, 'sx': 0.0005995044273962919, 'x': 0.0005995044273962919, 'Dos': 0.03252196853624812, 'Uno': 0.000449628320547219} \n",
      " based on the Physical Gate Avgs:\n",
      "       Unnamed: 0         backend basis_gate   q1     q2     error\n",
      "652          652  ibm_sherbrooke        ecr   41   40.0  0.014844\n",
      "653          653  ibm_sherbrooke        ecr   99  100.0  0.007433\n",
      "654          654  ibm_sherbrooke        ecr   78   77.0  0.009955\n",
      "655          655  ibm_sherbrooke        ecr   17   12.0  0.007158\n",
      "656          656  ibm_sherbrooke        ecr    8    9.0  0.013133\n",
      "...          ...             ...        ...  ...    ...       ...\n",
      "1299        1299  ibm_sherbrooke          x  122    NaN  0.000504\n",
      "1300        1300  ibm_sherbrooke          x  123    NaN  0.000243\n",
      "1301        1301  ibm_sherbrooke          x  124    NaN  0.000204\n",
      "1302        1302  ibm_sherbrooke          x  125    NaN  0.000443\n",
      "1303        1303  ibm_sherbrooke          x  126    NaN  0.000115\n",
      "\n",
      "[652 rows x 6 columns]\n",
      "\n",
      " ibm_brisbane\n",
      "gate_avg:\n",
      " {'ecr': 0.01915298220895479, 'id': 0.00042704314962658933, 'rz': 0.0, 'sx': 0.00042704314962658933, 'x': 0.00042704314962658933, 'Dos': 0.01915298220895479, 'Uno': 0.000320282362219942} \n",
      " based on the Physical Gate Avgs:\n",
      "       Unnamed: 0       backend basis_gate   q1     q2     error\n",
      "1304        1304  ibm_brisbane        ecr   62   72.0  0.009857\n",
      "1305        1305  ibm_brisbane        ecr   67   68.0  0.007519\n",
      "1306        1306  ibm_brisbane        ecr   44   45.0  0.025003\n",
      "1307        1307  ibm_brisbane        ecr  108  112.0  0.007557\n",
      "1308        1308  ibm_brisbane        ecr    8    9.0  0.010989\n",
      "...          ...           ...        ...  ...    ...       ...\n",
      "1951        1951  ibm_brisbane          x  122    NaN  0.000286\n",
      "1952        1952  ibm_brisbane          x  123    NaN  0.000446\n",
      "1953        1953  ibm_brisbane          x  124    NaN  0.000175\n",
      "1954        1954  ibm_brisbane          x  125    NaN  0.000314\n",
      "1955        1955  ibm_brisbane          x  126    NaN  0.000149\n",
      "\n",
      "[652 rows x 6 columns]\n"
     ]
    }
   ],
   "source": [
    "# Averages across all machines, baseline should assume all machines have same averages \n",
    "# (this is an assumption that should be challenged)\n",
    "\n",
    "data = get_filedata(load_data())\n",
    "print(\"global\")\n",
    "_global_averages = calc_avgs(data)\n",
    "\n",
    "machine_specific = {}\n",
    "for machine in BACKENDS:\n",
    "    print(\"\\n\",machine)\n",
    "    _mdata = machine_data(machine, data)\n",
    "    machine_specific[machine] = calc_avgs(_mdata)"
   ]
  },
  {
   "cell_type": "code",
   "execution_count": 121,
   "id": "bad99ee6-63a9-4c61-9cee-1cf7dafbf86d",
   "metadata": {
    "editable": true,
    "slideshow": {
     "slide_type": ""
    },
    "tags": []
   },
   "outputs": [
    {
     "name": "stdout",
     "output_type": "stream",
     "text": [
      "False\n",
      "False\n",
      "      2025-03-17.csv  2025-03-18.csv  2025-03-19.csv\n",
      "0           0.006707        0.007146        0.007146\n",
      "1           0.013165        0.012149        0.012149\n",
      "2           0.016895        0.008776        0.008776\n",
      "3           0.041294        0.033686        0.033686\n",
      "4           1.000000        1.000000        1.000000\n",
      "...              ...             ...             ...\n",
      "1951        0.000286        0.000286        0.000286\n",
      "1952        0.000446        0.000446        0.000446\n",
      "1953        0.000175        0.000175        0.000175\n",
      "1954        0.000314        0.000314        0.000314\n",
      "1955        0.000149        0.000149        0.000149\n",
      "\n",
      "[1956 rows x 3 columns]\n"
     ]
    },
    {
     "data": {
      "image/png": "[encoded data removed]",
      "text/plain": [
       "<Figure size 640x480 with 1 Axes>"
      ]
     },
     "metadata": {},
     "output_type": "display_data"
    },
    {
     "name": "stdout",
     "output_type": "stream",
     "text": [
      "False\n",
      "False\n",
      "      2025-03-17.csv  2025-03-18.csv  2025-03-19.csv\n",
      "0           0.006707        0.007146        0.007146\n",
      "1           0.013165        0.012149        0.012149\n",
      "2           0.016895        0.008776        0.008776\n",
      "3           0.041294        0.033686        0.033686\n",
      "4           1.000000        1.000000        1.000000\n",
      "...              ...             ...             ...\n",
      "1951        0.000286        0.000286        0.000286\n",
      "1952        0.000446        0.000446        0.000446\n",
      "1953        0.000175        0.000175        0.000175\n",
      "1954        0.000314        0.000314        0.000314\n",
      "1955        0.000149        0.000149        0.000149\n",
      "\n",
      "[1956 rows x 3 columns]\n"
     ]
    },
    {
     "data": {
      "image/png": "[encoded data removed]",
      "text/plain": [
       "<Figure size 640x480 with 1 Axes>"
      ]
     },
     "metadata": {},
     "output_type": "display_data"
    },
    {
     "name": "stdout",
     "output_type": "stream",
     "text": [
      "False\n",
      "False\n",
      "      2025-03-17.csv  2025-03-18.csv  2025-03-19.csv\n",
      "0           0.006707        0.007146        0.007146\n",
      "1           0.013165        0.012149        0.012149\n",
      "2           0.016895        0.008776        0.008776\n",
      "3           0.041294        0.033686        0.033686\n",
      "4           1.000000        1.000000        1.000000\n",
      "...              ...             ...             ...\n",
      "1951        0.000286        0.000286        0.000286\n",
      "1952        0.000446        0.000446        0.000446\n",
      "1953        0.000175        0.000175        0.000175\n",
      "1954        0.000314        0.000314        0.000314\n",
      "1955        0.000149        0.000149        0.000149\n",
      "\n",
      "[1956 rows x 3 columns]\n"
     ]
    },
    {
     "data": {
      "image/png": "[encoded data removed]",
      "text/plain": [
       "<Figure size 640x480 with 1 Axes>"
      ]
     },
     "metadata": {},
     "output_type": "display_data"
    }
   ],
   "source": [
    "import seaborn as sn\n",
    "\n",
    "## DID NOT PAN OUT IN TIME :(\n",
    "def plot_averages(all_data):\n",
    "    \"\"\"\n",
    "    Given the global averages plot the gate error averages as points, and the average of averages as lines, maybe look at super imposing a distribution from the mean & stdev.?\n",
    "    \"\"\"\n",
    "    def fmt_data(_data):\n",
    "        d = {}\n",
    "        __d = _data.copy()\n",
    "        \n",
    "        for backend in BACKENDS:\n",
    "            d[backend] = pandas.DataFrame({day:datum[\"error\"] for day, datum in __d.items() })\n",
    "            d[backend] = d[backend].reindex(sorted(d[backend].columns), axis=1)\n",
    "        return d\n",
    "        \n",
    "    data = fmt_data(all_data)\n",
    "    color_vals = [\"m\",\"b\",\"g\"]\n",
    "\n",
    "    for x,backend in enumerate(BACKENDS):\n",
    "        crt  = data[backend]\n",
    "        print(crt.isnull().values.any())\n",
    "        print(numpy.isinf(crt).values.any())\n",
    "        print(crt)\n",
    "        sn.violinplot(data=crt, split=True, inner=\"quart\", color=color_vals[x], orient=\"v\",fill=False,width=1, native_scale=False )\n",
    "        plt.show()    \n",
    "    \n",
    "   \n",
    "    pass\n",
    "\n",
    "plot_averages(data)"
   ]
  },
  {
   "cell_type": "code",
   "execution_count": null,
   "id": "fcae8003-cf45-46f7-a875-72fc40a5eda2",
   "metadata": {},
   "outputs": [],
   "source": [
    "def problem_children(backend:str, baseline:pandas.DataFrame):\n",
    "    \"\"\" Find the worst (highest error) qubits on the specific backend\"\"\"\n",
    "    pass"
   ]
  }
 ],
 "metadata": {
  "kernelspec": {
   "display_name": "venv",
   "language": "python",
   "name": "venv"
  },
  "language_info": {
   "codemirror_mode": {
    "name": "ipython",
    "version": 3
   },
   "file_extension": ".py",
   "mimetype": "text/x-python",
   "name": "python",
   "nbconvert_exporter": "python",
   "pygments_lexer": "ipython3",
   "version": "3.10.12"
  }
 },
 "nbformat": 4,
 "nbformat_minor": 5
}
